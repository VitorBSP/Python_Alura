{
  "nbformat": 4,
  "nbformat_minor": 0,
  "metadata": {
    "colab": {
      "name": "Lógica de Programação.ipynb",
      "provenance": []
    },
    "kernelspec": {
      "name": "python3",
      "display_name": "Python 3"
    }
  },
  "cells": [
    {
      "cell_type": "markdown",
      "metadata": {
        "id": "TgPEmUMiA7LD"
      },
      "source": [
        "#Lógica de Programação\n"
      ]
    },
    {
      "cell_type": "code",
      "metadata": {
        "id": "ZRIvKwdDA9Ts",
        "outputId": "5cc9e7af-eea5-4e31-b19b-4253bf4603de",
        "colab": {
          "base_uri": "https://localhost:8080/",
          "height": 34
        }
      },
      "source": [
        "1+1\n",
        "'Guilherme'"
      ],
      "execution_count": null,
      "outputs": [
        {
          "output_type": "execute_result",
          "data": {
            "text/plain": [
              "'Guilherme'"
            ]
          },
          "metadata": {
            "tags": []
          },
          "execution_count": 7
        }
      ]
    },
    {
      "cell_type": "code",
      "metadata": {
        "id": "OTzfvDhwBGlt",
        "outputId": "33cad1a2-dab9-4a0a-db70-7c0253a922c5",
        "colab": {
          "base_uri": "https://localhost:8080/",
          "height": 34
        }
      },
      "source": [
        "#Armazena informações com igual\n",
        "Nome = \"Vítor\"\n",
        "print (Nome)\n",
        "Nome\n",
        "idade = 19"
      ],
      "execution_count": null,
      "outputs": [
        {
          "output_type": "stream",
          "text": [
            "Vítor\n"
          ],
          "name": "stdout"
        }
      ]
    },
    {
      "cell_type": "code",
      "metadata": {
        "id": "zxXy99C9Br-0",
        "outputId": "0dec1746-21d7-4cc7-aeff-dc7220e495f0",
        "colab": {
          "base_uri": "https://localhost:8080/",
          "height": 34
        }
      },
      "source": [
        "print(f'O meu é {Nome} e tenho {idade} anos')"
      ],
      "execution_count": null,
      "outputs": [
        {
          "output_type": "stream",
          "text": [
            "O meu é Vítor e tenho 19 anos\n"
          ],
          "name": "stdout"
        }
      ]
    },
    {
      "cell_type": "code",
      "metadata": {
        "id": "OBelzUklDexC"
      },
      "source": [
        ""
      ],
      "execution_count": null,
      "outputs": []
    },
    {
      "cell_type": "markdown",
      "metadata": {
        "id": "A65tjUiBKHa3"
      },
      "source": [
        ""
      ]
    },
    {
      "cell_type": "markdown",
      "metadata": {
        "id": "TUETbhcgDzat"
      },
      "source": [
        "#Criando minha primeira função\n"
      ]
    },
    {
      "cell_type": "code",
      "metadata": {
        "id": "lVN3o-A4D2jO"
      },
      "source": [
        "#Aqui estamos criando uma função\n",
        "def saudacao():\n",
        "  nome = input(\"Qual é seu nome? \")\n",
        "  print(f\"Olá {nome}\")\n"
      ],
      "execution_count": null,
      "outputs": []
    },
    {
      "cell_type": "code",
      "metadata": {
        "id": "DqIljdM3D7mR",
        "outputId": "6001066c-99a3-4509-8105-8728d0949fb5",
        "colab": {
          "base_uri": "https://localhost:8080/",
          "height": 51
        }
      },
      "source": [
        "#Aqui estamos chamando a função\n",
        "saudacao()"
      ],
      "execution_count": null,
      "outputs": [
        {
          "output_type": "stream",
          "text": [
            "Qual é seu nome? Pederneira\n",
            "Olá Pederneira\n"
          ],
          "name": "stdout"
        }
      ]
    },
    {
      "cell_type": "markdown",
      "metadata": {
        "id": "yXAuXTs4EAak"
      },
      "source": [
        "#Parâmetros"
      ]
    },
    {
      "cell_type": "code",
      "metadata": {
        "id": "1o52j7TXEkAY"
      },
      "source": [
        "def nomecompleto():\n",
        "  nome = input(\"Qual é seu nome? \")\n",
        "  sobrenome = input(\"Qual é seu sobrenome? \")\n",
        "  nomeint = nome + ' ' + sobrenome\n",
        "  print (nomeint)"
      ],
      "execution_count": null,
      "outputs": []
    },
    {
      "cell_type": "code",
      "metadata": {
        "id": "vv_ZJNJVKocu"
      },
      "source": [
        "def nome_par(nomepessoa):\n",
        "  print(f\"Olá {nomepessoa}\")"
      ],
      "execution_count": null,
      "outputs": []
    },
    {
      "cell_type": "code",
      "metadata": {
        "id": "sXOVE6SZKWQ-",
        "outputId": "07c2c39a-a66b-40ce-fdaf-512e09f4a9ed",
        "colab": {
          "base_uri": "https://localhost:8080/",
          "height": 34
        }
      },
      "source": [
        "nome = \"Luizakk\"\n",
        "nome_par(nome)"
      ],
      "execution_count": null,
      "outputs": [
        {
          "output_type": "stream",
          "text": [
            "Olá Luizakk\n"
          ],
          "name": "stdout"
        }
      ]
    },
    {
      "cell_type": "code",
      "metadata": {
        "id": "sQt86jjXBR05"
      },
      "source": [
        ""
      ],
      "execution_count": null,
      "outputs": []
    },
    {
      "cell_type": "markdown",
      "metadata": {
        "id": "2M3iNLALEI7Z"
      },
      "source": [
        "#Condicionais"
      ]
    },
    {
      "cell_type": "code",
      "metadata": {
        "id": "L-oW1hc1EMS0",
        "outputId": "551f9d47-93d2-4cf4-d3a6-c689292c6d03",
        "colab": {
          "base_uri": "https://localhost:8080/",
          "height": 34
        }
      },
      "source": [
        "idade = 13\n",
        "def verificador(idade):\n",
        "  if idade>=18:\n",
        "    print('Tem permissão para dirigir')\n",
        "  else:\n",
        "    print('Sem permissão para dirigir')\n",
        "verificador(idade)"
      ],
      "execution_count": null,
      "outputs": [
        {
          "output_type": "stream",
          "text": [
            "Sem permissão para dirigir\n"
          ],
          "name": "stdout"
        }
      ]
    },
    {
      "cell_type": "code",
      "metadata": {
        "id": "9ztvbAHnKJEi",
        "outputId": "c8821f9d-689f-48c1-95af-141f0f0cb4c1",
        "colab": {
          "base_uri": "https://localhost:8080/",
          "height": 51
        }
      },
      "source": [
        "def verificador_sem():\n",
        "  idade = input('Qual a sua idade? ')\n",
        "  idade = int(idade)\n",
        "  #Convertendo para inteiro\n",
        "  if idade>=18:\n",
        "    print('Tem permissão para dirigir')\n",
        "  else:\n",
        "    print('Sem permissão para dirigir')\n",
        "verificador_sem()\n"
      ],
      "execution_count": null,
      "outputs": [
        {
          "output_type": "stream",
          "text": [
            "Qual a sua idade? 13\n",
            "Sem permissão para dirigir\n"
          ],
          "name": "stdout"
        }
      ]
    },
    {
      "cell_type": "markdown",
      "metadata": {
        "id": "8BuuME27TN9B"
      },
      "source": [
        "#Lista"
      ]
    },
    {
      "cell_type": "code",
      "metadata": {
        "id": "NyEy39UOKW_a",
        "outputId": "17e7e2ac-8ac4-4d2d-e47c-3b6f0a509ae6",
        "colab": {
          "base_uri": "https://localhost:8080/",
          "height": 34
        }
      },
      "source": [
        "idade = 18\n",
        "type(idade)\n"
      ],
      "execution_count": null,
      "outputs": [
        {
          "output_type": "execute_result",
          "data": {
            "text/plain": [
              "int"
            ]
          },
          "metadata": {
            "tags": []
          },
          "execution_count": 15
        }
      ]
    },
    {
      "cell_type": "code",
      "metadata": {
        "id": "yDVWAaUFTfxg",
        "outputId": "7d43b850-6146-4870-9143-ce23d867a964",
        "colab": {
          "base_uri": "https://localhost:8080/",
          "height": 34
        }
      },
      "source": [
        "nome = 'Vítor'\n",
        "type(nome)"
      ],
      "execution_count": null,
      "outputs": [
        {
          "output_type": "execute_result",
          "data": {
            "text/plain": [
              "str"
            ]
          },
          "metadata": {
            "tags": []
          },
          "execution_count": 16
        }
      ]
    },
    {
      "cell_type": "code",
      "metadata": {
        "id": "zs19RK2TTm36",
        "outputId": "9b9f1a2a-c497-4cd6-bc83-d36c0248e7eb",
        "colab": {
          "base_uri": "https://localhost:8080/",
          "height": 34
        }
      },
      "source": [
        "idades = [18, 22, 15, 50, 1]\n",
        "type(idades)"
      ],
      "execution_count": null,
      "outputs": [
        {
          "output_type": "execute_result",
          "data": {
            "text/plain": [
              "list"
            ]
          },
          "metadata": {
            "tags": []
          },
          "execution_count": 31
        }
      ]
    },
    {
      "cell_type": "code",
      "metadata": {
        "id": "SdEbgopxTsTL",
        "outputId": "b96a129a-6a6f-4064-de9f-28b636360929",
        "colab": {
          "base_uri": "https://localhost:8080/",
          "height": 34
        }
      },
      "source": [
        "idades[2]"
      ],
      "execution_count": null,
      "outputs": [
        {
          "output_type": "execute_result",
          "data": {
            "text/plain": [
              "15"
            ]
          },
          "metadata": {
            "tags": []
          },
          "execution_count": 19
        }
      ]
    },
    {
      "cell_type": "code",
      "metadata": {
        "id": "mYYWLbZUTyJN",
        "outputId": "a43f563b-9cf2-42a4-c8be-d07be6e21ca3",
        "colab": {
          "base_uri": "https://localhost:8080/",
          "height": 34
        }
      },
      "source": [
        "idades[0:3]"
      ],
      "execution_count": null,
      "outputs": [
        {
          "output_type": "execute_result",
          "data": {
            "text/plain": [
              "[18, 22, 15]"
            ]
          },
          "metadata": {
            "tags": []
          },
          "execution_count": 21
        }
      ]
    },
    {
      "cell_type": "code",
      "metadata": {
        "id": "05KK9cSrUMym",
        "outputId": "88b92e6c-2b83-482c-90dc-8be916b18ca9",
        "colab": {
          "base_uri": "https://localhost:8080/",
          "height": 34
        }
      },
      "source": [
        "idades[1:]"
      ],
      "execution_count": null,
      "outputs": [
        {
          "output_type": "execute_result",
          "data": {
            "text/plain": [
              "[22, 15, 50]"
            ]
          },
          "metadata": {
            "tags": []
          },
          "execution_count": 22
        }
      ]
    },
    {
      "cell_type": "code",
      "metadata": {
        "id": "6MP5hfyiUVhA",
        "outputId": "d820c213-91b1-47c9-bcaf-a2bbbf0bb382",
        "colab": {
          "base_uri": "https://localhost:8080/",
          "height": 34
        }
      },
      "source": [
        "idades[-1]"
      ],
      "execution_count": null,
      "outputs": [
        {
          "output_type": "execute_result",
          "data": {
            "text/plain": [
              "50"
            ]
          },
          "metadata": {
            "tags": []
          },
          "execution_count": 23
        }
      ]
    },
    {
      "cell_type": "code",
      "metadata": {
        "id": "fcWdjO3tUaaL"
      },
      "source": [
        ""
      ],
      "execution_count": null,
      "outputs": []
    },
    {
      "cell_type": "markdown",
      "metadata": {
        "id": "UhGyy9sTXfeJ"
      },
      "source": [
        "# Laços e Listas\n"
      ]
    },
    {
      "cell_type": "code",
      "metadata": {
        "id": "l6niqahFXl9V",
        "outputId": "c3177770-6ec9-4e48-f734-fd6cfd786e59",
        "colab": {
          "base_uri": "https://localhost:8080/",
          "height": 85
        }
      },
      "source": [
        "idades\n",
        "def verificador(idade):\n",
        "  if idade>=18:\n",
        "    print(f'Com {idade} você tem permissão para dirigir')\n",
        "  else:\n",
        "    print(f'Com {idade} você não tem permissão para dirigir')\n",
        "for nomess in idades:\n",
        "  verificador(nomess)"
      ],
      "execution_count": null,
      "outputs": [
        {
          "output_type": "stream",
          "text": [
            "Com 18 você tem permissão para dirigir\n",
            "Com 22 você tem permissão para dirigir\n",
            "Com 15 você não tem permissão para dirigir\n",
            "Com 50 você tem permissão para dirigir\n"
          ],
          "name": "stdout"
        }
      ]
    },
    {
      "cell_type": "code",
      "metadata": {
        "id": "aCZZNgN0Y1jb",
        "outputId": "34f6d673-5189-4ad3-8988-95342971aa2e",
        "colab": {
          "base_uri": "https://localhost:8080/",
          "height": 102
        }
      },
      "source": [
        "def verificador(idades):\n",
        "  for nomess in idades:\n",
        "    if nomess>=18:\n",
        "      print(f'Com {nomess} você tem permissão para dirigir')\n",
        "    else:\n",
        "      print(f'Com {nomess} você não tem permissão para dirigir')\n",
        "verificador(idades)"
      ],
      "execution_count": null,
      "outputs": [
        {
          "output_type": "stream",
          "text": [
            "Com 18 você tem permissão para dirigir\n",
            "Com 22 você tem permissão para dirigir\n",
            "Com 15 você não tem permissão para dirigir\n",
            "Com 50 você tem permissão para dirigir\n",
            "Com 1 você não tem permissão para dirigir\n"
          ],
          "name": "stdout"
        }
      ]
    },
    {
      "cell_type": "code",
      "metadata": {
        "id": "cDrHFnINYIjr"
      },
      "source": [
        ""
      ],
      "execution_count": null,
      "outputs": []
    },
    {
      "cell_type": "markdown",
      "metadata": {
        "id": "Zj-h_ftkakCb"
      },
      "source": [
        "# Booleano\n"
      ]
    },
    {
      "cell_type": "code",
      "metadata": {
        "id": "dYHTFOidaqD_",
        "outputId": "8868f392-3958-4f14-a4b6-85d18daf5c2a",
        "colab": {
          "base_uri": "https://localhost:8080/",
          "height": 34
        }
      },
      "source": [
        "idade = 18\n",
        "idade >=15"
      ],
      "execution_count": null,
      "outputs": [
        {
          "output_type": "execute_result",
          "data": {
            "text/plain": [
              "True"
            ]
          },
          "metadata": {
            "tags": []
          },
          "execution_count": 34
        }
      ]
    },
    {
      "cell_type": "code",
      "metadata": {
        "id": "4KNna06YauVV",
        "outputId": "02b1ed04-2732-42bb-f76b-afcdc3961da6",
        "colab": {
          "base_uri": "https://localhost:8080/",
          "height": 34
        }
      },
      "source": [
        "idade = 15\n",
        "idade>=18"
      ],
      "execution_count": null,
      "outputs": [
        {
          "output_type": "execute_result",
          "data": {
            "text/plain": [
              "False"
            ]
          },
          "metadata": {
            "tags": []
          },
          "execution_count": 35
        }
      ]
    },
    {
      "cell_type": "code",
      "metadata": {
        "id": "dkMqdYDcaym7"
      },
      "source": [
        "permissoes =[]\n",
        "idades1 = [20,14,40]\n",
        "def vericathor (permissoes, idades1):\n",
        "  for idades in idades1:\n",
        "    if idades>18:\n",
        "      permissoes.append(True)\n",
        "    else:\n",
        "      permissoes.append(False)\n",
        "vericathor(permissoes, idades1)"
      ],
      "execution_count": null,
      "outputs": []
    },
    {
      "cell_type": "code",
      "metadata": {
        "id": "qjBQF5Ava846",
        "outputId": "76acb42c-b2cf-4d79-edde-14cc217f87bf",
        "colab": {
          "base_uri": "https://localhost:8080/",
          "height": 34
        }
      },
      "source": [
        "permissoes"
      ],
      "execution_count": null,
      "outputs": [
        {
          "output_type": "execute_result",
          "data": {
            "text/plain": [
              "[True, False, True]"
            ]
          },
          "metadata": {
            "tags": []
          },
          "execution_count": 38
        }
      ]
    },
    {
      "cell_type": "code",
      "metadata": {
        "id": "H4PjWzfrbelB",
        "outputId": "eca77192-74bd-4ba8-a078-ff9b9863f808",
        "colab": {
          "base_uri": "https://localhost:8080/",
          "height": 68
        }
      },
      "source": [
        "for permissao in permissoes:\n",
        "  if permissao == True:\n",
        "    print(\"Tem permissão para dirigir\")\n",
        "  else:\n",
        "    print(\"Não tem permissão para dirigir\")"
      ],
      "execution_count": null,
      "outputs": [
        {
          "output_type": "stream",
          "text": [
            "Tem permissão para dirigir\n",
            "Não tem permissão para dirigir\n",
            "Tem permissão para dirigir\n"
          ],
          "name": "stdout"
        }
      ]
    },
    {
      "cell_type": "code",
      "metadata": {
        "id": "h2_NgPe3bv1t"
      },
      "source": [
        ""
      ],
      "execution_count": null,
      "outputs": []
    },
    {
      "cell_type": "markdown",
      "metadata": {
        "id": "PKhj1glsE2G4"
      },
      "source": [
        "# Tipos em uma lista"
      ]
    },
    {
      "cell_type": "code",
      "metadata": {
        "id": "ntLsSJ6RE-u7",
        "outputId": "c5b92d21-bc85-41b5-9afc-03b4b74becb4",
        "colab": {
          "base_uri": "https://localhost:8080/",
          "height": 153
        }
      },
      "source": [
        "lista = ['Guilherme', 28, True, '18']\n",
        "for elemento in lista:\n",
        "  print(f'O elemento {elemento} é do tipo ', type(elemento))\n",
        "  print('O elemento ', elemento, ' é do tipo ', type(elemento))"
      ],
      "execution_count": null,
      "outputs": [
        {
          "output_type": "stream",
          "text": [
            "O elemento Guilherme é do tipo  <class 'str'>\n",
            "O elemento  Guilherme  é do tipo  <class 'str'>\n",
            "O elemento 28 é do tipo  <class 'int'>\n",
            "O elemento  28  é do tipo  <class 'int'>\n",
            "O elemento True é do tipo  <class 'bool'>\n",
            "O elemento  True  é do tipo  <class 'bool'>\n",
            "O elemento 18 é do tipo  <class 'str'>\n",
            "O elemento  18  é do tipo  <class 'str'>\n"
          ],
          "name": "stdout"
        }
      ]
    },
    {
      "cell_type": "code",
      "metadata": {
        "id": "lWVJEOAJFa_t"
      },
      "source": [
        ""
      ],
      "execution_count": null,
      "outputs": []
    },
    {
      "cell_type": "markdown",
      "metadata": {
        "id": "JTkGS468JnX_"
      },
      "source": [
        "# Importando bibliotecas"
      ]
    },
    {
      "cell_type": "code",
      "metadata": {
        "id": "E7g4I1ndJq2D"
      },
      "source": [
        "from random import randrange, seed"
      ],
      "execution_count": null,
      "outputs": []
    },
    {
      "cell_type": "code",
      "metadata": {
        "id": "vp1aHYC2LPeT"
      },
      "source": [
        "seed(10)\n",
        "# Ocorre uma manipulação da geração de números aleatórios, fazemos com os números aleatórios sejam guardados em uma seed de número x"
      ],
      "execution_count": null,
      "outputs": []
    },
    {
      "cell_type": "code",
      "metadata": {
        "id": "nXM-fwxmJy3i",
        "outputId": "37cf5db6-ce21-4b96-ff5b-02995380e0d4",
        "colab": {
          "base_uri": "https://localhost:8080/",
          "height": 34
        }
      },
      "source": [
        "randrange(0,11)\n"
      ],
      "execution_count": null,
      "outputs": [
        {
          "output_type": "execute_result",
          "data": {
            "text/plain": [
              "9"
            ]
          },
          "metadata": {
            "tags": []
          },
          "execution_count": 34
        }
      ]
    },
    {
      "cell_type": "code",
      "metadata": {
        "id": "dhkFtHIuKLlN",
        "outputId": "5d1ccfe8-febd-4d1e-ba36-c7b4a1be912f",
        "colab": {
          "base_uri": "https://localhost:8080/",
          "height": 34
        }
      },
      "source": [
        "notas = []\n",
        "for nota in range(8):\n",
        "  notas.append(randrange(0,11))\n",
        "notas\n",
        "len(notas)"
      ],
      "execution_count": null,
      "outputs": [
        {
          "output_type": "execute_result",
          "data": {
            "text/plain": [
              "8"
            ]
          },
          "metadata": {
            "tags": []
          },
          "execution_count": 37
        }
      ]
    },
    {
      "cell_type": "code",
      "metadata": {
        "id": "Yk0P0rT4KqMO"
      },
      "source": [
        ""
      ],
      "execution_count": null,
      "outputs": []
    },
    {
      "cell_type": "markdown",
      "metadata": {
        "id": "t6m1sGGYXiDz"
      },
      "source": [
        "# Fazer gráficos com python\n"
      ]
    },
    {
      "cell_type": "markdown",
      "metadata": {
        "id": "-p_Tjo44X8j5"
      },
      "source": [
        "Usando o matplotlib"
      ]
    },
    {
      "cell_type": "code",
      "metadata": {
        "id": "ZDtXVjmKX_0l"
      },
      "source": [
        "import matplotlib.pyplot as plt\n",
        "x = list(range(1,9))\n",
        "y = notas\n",
        "plt.plot(x,y, marker='o')\n",
        "plt.title(\"Notas de matemática\")\n",
        "plt.xlabel('Provas')\n",
        "plt.ylabel('Notas')\n",
        "plt.show()\n",
        "notas"
      ],
      "execution_count": null,
      "outputs": []
    },
    {
      "cell_type": "code",
      "metadata": {
        "id": "ophQbl75YveA"
      },
      "source": [
        ""
      ],
      "execution_count": null,
      "outputs": []
    },
    {
      "cell_type": "markdown",
      "metadata": {
        "id": "ikx2htwyKMVC"
      },
      "source": [
        "# Verificando versão do python"
      ]
    },
    {
      "cell_type": "code",
      "metadata": {
        "id": "CH3cm_boKQiw",
        "colab": {
          "base_uri": "https://localhost:8080/",
          "height": 51
        },
        "outputId": "6a728a3b-d223-4294-bf58-e2b86b72ec46"
      },
      "source": [
        "!python -V\n",
        "!python --version\n",
        "#Com ! temos acesso ao prompt de comando do colab"
      ],
      "execution_count": null,
      "outputs": [
        {
          "output_type": "stream",
          "text": [
            "Python 3.6.9\n",
            "Python 3.6.9\n"
          ],
          "name": "stdout"
        }
      ]
    },
    {
      "cell_type": "code",
      "metadata": {
        "id": "H8oiDaljKcc9"
      },
      "source": [
        ""
      ],
      "execution_count": null,
      "outputs": []
    }
  ]
}