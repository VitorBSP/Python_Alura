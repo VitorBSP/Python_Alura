{
  "nbformat": 4,
  "nbformat_minor": 0,
  "metadata": {
    "colab": {
      "name": "Lista 1.ipynb",
      "provenance": [],
      "authorship_tag": "ABX9TyNaEklB3PRpAZJu8DhrthEq",
      "include_colab_link": true
    },
    "kernelspec": {
      "name": "python3",
      "display_name": "Python 3"
    },
    "language_info": {
      "name": "python"
    }
  },
  "cells": [
    {
      "cell_type": "markdown",
      "metadata": {
        "id": "view-in-github",
        "colab_type": "text"
      },
      "source": [
        "<a href=\"https://colab.research.google.com/github/VitorBSP/Python_Alura/blob/main/Lista_1.ipynb\" target=\"_parent\"><img src=\"https://colab.research.google.com/assets/colab-badge.svg\" alt=\"Open In Colab\"/></a>"
      ]
    },
    {
      "cell_type": "markdown",
      "source": [
        "# Questão 1 - Letra A\n"
      ],
      "metadata": {
        "id": "vijlv5BD9y3A"
      }
    },
    {
      "cell_type": "code",
      "source": [
        "import pandas as pd"
      ],
      "metadata": {
        "id": "VTCF5J1w9szv"
      },
      "execution_count": null,
      "outputs": []
    },
    {
      "cell_type": "code",
      "execution_count": 78,
      "metadata": {
        "id": "zx7tDTDyqZQ-"
      },
      "outputs": [],
      "source": [
        "droga = '6, 6, 6, 6+, 7, 9+, 10, 10+, 11+, 13, 16, 17+, 19+, 20+, 22, 23, 25+, 32+, 32+, 34+, 35+'\n",
        "droga = droga.split(', ')\n",
        "cens = list(map(lambda x: 0 if '+' in x else 1,droga))\n"
      ]
    },
    {
      "cell_type": "code",
      "source": [
        "placebo = [1, 1, 2, 2, 3, 4, 4, 5, 5, 8, 8, 8, 8, 11, 11, 12, 12, 15, 17, 22, 23]\n",
        "cens += [1]*len(placebo)"
      ],
      "metadata": {
        "id": "7ROGM2Gq1Aby"
      },
      "execution_count": 90,
      "outputs": []
    },
    {
      "cell_type": "code",
      "source": [
        "droga = list(map(lambda x: int(x.replace(\"+\",\"\")) if '+' in x else int(x),droga))\n",
        "ind = droga + placebo\n",
        "grupo = [0]*len(droga) + [1]*len(placebo)"
      ],
      "metadata": {
        "id": "-jdXoJyZtjTB"
      },
      "execution_count": 82,
      "outputs": []
    },
    {
      "cell_type": "code",
      "source": [
        "dados1 =  pd.DataFrame({'individuo' : ind, \n",
        "                        'censura' : cens, \n",
        "                        'grupo' : grupo})"
      ],
      "metadata": {
        "id": "JQlV4BJ86ceP"
      },
      "execution_count": null,
      "outputs": []
    }
  ]
}